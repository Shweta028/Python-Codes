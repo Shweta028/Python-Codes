{
 "cells": [
  {
   "cell_type": "code",
   "execution_count": 5,
   "metadata": {},
   "outputs": [
    {
     "name": "stdout",
     "output_type": "stream",
     "text": [
      "Only numeric input accepted:\n",
      "Enter numerator4\n",
      "Enter denominator0\n",
      "ZeroDivisionError:You entered zero in denominator \n",
      "a= 4  b= 0  output= 0.75\n"
     ]
    }
   ],
   "source": [
    "#!/usr/bin/pyhton2\n",
    "\n",
    "print(\"Only numeric input accepted:\")\n",
    "\n",
    "a=int(input(\"Enter numerator\"))\n",
    "b=int(input(\"Enter denominator\"))\n",
    "\n",
    "\n",
    "try:\n",
    "    output=float(a/b)     #put the code that is likely to genearte error inside the try block\n",
    "    \n",
    "except ZeroDivisionError as e:       #catch zero division error using except and taking it as argument to print \n",
    "    \n",
    "    print(\"ZeroDivisionError:You entered zero in denominator \")\n",
    "    \n",
    "except TypeError as er:              #catch type mismatch error \n",
    "    \n",
    "    print(\"Division not possible, Please enter numeric types: \"+format(er))\n",
    "    \n",
    "print(\"a=\", a , \" b=\",b, \" output=\",output)    \n",
    "\n"
   ]
  },
  {
   "cell_type": "code",
   "execution_count": null,
   "metadata": {},
   "outputs": [],
   "source": []
  },
  {
   "cell_type": "code",
   "execution_count": null,
   "metadata": {},
   "outputs": [],
   "source": []
  }
 ],
 "metadata": {
  "kernelspec": {
   "display_name": "Python 2",
   "language": "python",
   "name": "python2"
  },
  "language_info": {
   "codemirror_mode": {
    "name": "ipython",
    "version": 3
   },
   "file_extension": ".py",
   "mimetype": "text/x-python",
   "name": "python",
   "nbconvert_exporter": "python",
   "pygments_lexer": "ipython3",
   "version": "3.5.2"
  }
 },
 "nbformat": 4,
 "nbformat_minor": 2
}
